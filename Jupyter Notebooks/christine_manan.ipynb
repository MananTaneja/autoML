{
 "metadata": {
  "language_info": {
   "codemirror_mode": {
    "name": "ipython",
    "version": 3
   },
   "file_extension": ".py",
   "mimetype": "text/x-python",
   "name": "python",
   "nbconvert_exporter": "python",
   "pygments_lexer": "ipython3",
   "version": "3.7.9-final"
  },
  "orig_nbformat": 2,
  "kernelspec": {
   "name": "python3",
   "display_name": "Python 3"
  }
 },
 "nbformat": 4,
 "nbformat_minor": 2,
 "cells": [
  {
   "cell_type": "code",
   "execution_count": 1,
   "metadata": {},
   "outputs": [],
   "source": [
    "# importing lbraries\n",
    "import numpy as np\n",
    "import pandas as pd\n",
    "import matplotlib.pyplot as plt\n",
    "import seaborn as sns"
   ]
  },
  {
   "cell_type": "code",
   "execution_count": 39,
   "metadata": {},
   "outputs": [],
   "source": [
    "train = pd.read_csv('../Datasets/christine - binary classification/christine_train.data', sep=' ', header=None)"
   ]
  },
  {
   "cell_type": "code",
   "execution_count": 40,
   "metadata": {},
   "outputs": [],
   "source": [
    "train = train.iloc[:, :-1]"
   ]
  },
  {
   "cell_type": "code",
   "execution_count": 41,
   "metadata": {},
   "outputs": [
    {
     "output_type": "execute_result",
     "data": {
      "text/plain": [
       "   0     1     2     3     4     5     6     7     8     9     ...  1626  \\\n",
       "0   443   375   109   423   534   296    82   571   132   601  ...   174   \n",
       "1   486   716   136   231   705   343   241   501   174   709  ...   147   \n",
       "2   277   424    75   264   639   172    87   600   100   742  ...   355   \n",
       "3   220   459   117   280   767   286   187   684   141   748  ...   303   \n",
       "4   288   414   121   285   556   356   105   739   205   691  ...   361   \n",
       "\n",
       "   1627  1628  1629  1630  1631  1632  1633  1634  1635  \n",
       "0    23    13   167   168   286   517   388   197   331  \n",
       "1   241    62   278   208   167   282   222     0   380  \n",
       "2    33    21   237   111   109   433   329     0   299  \n",
       "3   376    45   222   107   360   271   381     0   329  \n",
       "4     0     8   133   150   176   656   408   293   521  \n",
       "\n",
       "[5 rows x 1636 columns]"
      ],
      "text/html": "<div>\n<style scoped>\n    .dataframe tbody tr th:only-of-type {\n        vertical-align: middle;\n    }\n\n    .dataframe tbody tr th {\n        vertical-align: top;\n    }\n\n    .dataframe thead th {\n        text-align: right;\n    }\n</style>\n<table border=\"1\" class=\"dataframe\">\n  <thead>\n    <tr style=\"text-align: right;\">\n      <th></th>\n      <th>0</th>\n      <th>1</th>\n      <th>2</th>\n      <th>3</th>\n      <th>4</th>\n      <th>5</th>\n      <th>6</th>\n      <th>7</th>\n      <th>8</th>\n      <th>9</th>\n      <th>...</th>\n      <th>1626</th>\n      <th>1627</th>\n      <th>1628</th>\n      <th>1629</th>\n      <th>1630</th>\n      <th>1631</th>\n      <th>1632</th>\n      <th>1633</th>\n      <th>1634</th>\n      <th>1635</th>\n    </tr>\n  </thead>\n  <tbody>\n    <tr>\n      <th>0</th>\n      <td>443</td>\n      <td>375</td>\n      <td>109</td>\n      <td>423</td>\n      <td>534</td>\n      <td>296</td>\n      <td>82</td>\n      <td>571</td>\n      <td>132</td>\n      <td>601</td>\n      <td>...</td>\n      <td>174</td>\n      <td>23</td>\n      <td>13</td>\n      <td>167</td>\n      <td>168</td>\n      <td>286</td>\n      <td>517</td>\n      <td>388</td>\n      <td>197</td>\n      <td>331</td>\n    </tr>\n    <tr>\n      <th>1</th>\n      <td>486</td>\n      <td>716</td>\n      <td>136</td>\n      <td>231</td>\n      <td>705</td>\n      <td>343</td>\n      <td>241</td>\n      <td>501</td>\n      <td>174</td>\n      <td>709</td>\n      <td>...</td>\n      <td>147</td>\n      <td>241</td>\n      <td>62</td>\n      <td>278</td>\n      <td>208</td>\n      <td>167</td>\n      <td>282</td>\n      <td>222</td>\n      <td>0</td>\n      <td>380</td>\n    </tr>\n    <tr>\n      <th>2</th>\n      <td>277</td>\n      <td>424</td>\n      <td>75</td>\n      <td>264</td>\n      <td>639</td>\n      <td>172</td>\n      <td>87</td>\n      <td>600</td>\n      <td>100</td>\n      <td>742</td>\n      <td>...</td>\n      <td>355</td>\n      <td>33</td>\n      <td>21</td>\n      <td>237</td>\n      <td>111</td>\n      <td>109</td>\n      <td>433</td>\n      <td>329</td>\n      <td>0</td>\n      <td>299</td>\n    </tr>\n    <tr>\n      <th>3</th>\n      <td>220</td>\n      <td>459</td>\n      <td>117</td>\n      <td>280</td>\n      <td>767</td>\n      <td>286</td>\n      <td>187</td>\n      <td>684</td>\n      <td>141</td>\n      <td>748</td>\n      <td>...</td>\n      <td>303</td>\n      <td>376</td>\n      <td>45</td>\n      <td>222</td>\n      <td>107</td>\n      <td>360</td>\n      <td>271</td>\n      <td>381</td>\n      <td>0</td>\n      <td>329</td>\n    </tr>\n    <tr>\n      <th>4</th>\n      <td>288</td>\n      <td>414</td>\n      <td>121</td>\n      <td>285</td>\n      <td>556</td>\n      <td>356</td>\n      <td>105</td>\n      <td>739</td>\n      <td>205</td>\n      <td>691</td>\n      <td>...</td>\n      <td>361</td>\n      <td>0</td>\n      <td>8</td>\n      <td>133</td>\n      <td>150</td>\n      <td>176</td>\n      <td>656</td>\n      <td>408</td>\n      <td>293</td>\n      <td>521</td>\n    </tr>\n  </tbody>\n</table>\n<p>5 rows × 1636 columns</p>\n</div>"
     },
     "metadata": {},
     "execution_count": 41
    }
   ],
   "source": [
    "train.head()"
   ]
  },
  {
   "cell_type": "code",
   "execution_count": null,
   "metadata": {},
   "outputs": [],
   "source": []
  }
 ]
}